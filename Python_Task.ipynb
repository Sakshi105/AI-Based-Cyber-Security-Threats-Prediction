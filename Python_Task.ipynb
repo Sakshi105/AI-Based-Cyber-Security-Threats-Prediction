{
 "cells": [
  {
   "cell_type": "markdown",
   "id": "fb745f61",
   "metadata": {},
   "source": [
    "# 🧩 Python Tasks – Sakshi Gate"
   ]
  },
  {
   "cell_type": "markdown",
   "id": "1f8c573e",
   "metadata": {},
   "source": [
    "\n",
    "This contains **5 simple Python tasks**, demonstrating key concepts of Python programming:  \n",
    "1. **Text Analyzer** – String & Dictionary operations  \n",
    "2. **Employee Data Management** – Lists, Dictionaries & Pandas  \n",
    "3. **Pattern Generator** – Loops and String formatting  \n",
    "4. **Movie Ratings Visualization** – NumPy, Random & Matplotlib  \n",
    "5. **Temperature Converter** – Object-Oriented Programming (OOP)\n",
    "    "
   ]
  },
  {
   "cell_type": "markdown",
   "id": "ce56a83b",
   "metadata": {},
   "source": [
    "## 📝 Task 1: Text Analyzer"
   ]
  },
  {
   "cell_type": "code",
   "execution_count": null,
   "id": "3acaa321",
   "metadata": {},
   "outputs": [],
   "source": [
    "\n",
    "print(\"📝 Task 1: Text Analyzer\\n\")\n",
    "\n",
    "paragraph = '''Python is a widely used programming language. It is popular for data science, \n",
    "machine learning, and web development. Python makes complex tasks simple!'''\n",
    "\n",
    "# Clean and split text\n",
    "words = paragraph.replace('.', '').replace(',', '').replace('!', '').lower().split()\n",
    "word_count = len(words)\n",
    "sentence_count = paragraph.count('.') + paragraph.count('!')\n",
    "\n",
    "# Frequency of words\n",
    "freq = {}\n",
    "for word in words:\n",
    "    freq[word] = freq.get(word, 0) + 1\n",
    "\n",
    "most_common_word = max(freq, key=freq.get)\n",
    "\n",
    "print(f\"Total Words: {word_count}\")\n",
    "print(f\"Total Sentences: {sentence_count}\")\n",
    "print(f\"Most Common Word: '{most_common_word}' (appears {freq[most_common_word]} times)\")\n",
    "    "
   ]
  },
  {
   "cell_type": "markdown",
   "id": "5b8aafcb",
   "metadata": {},
   "source": [
    "## 💼 Task 2: Employee Data Management"
   ]
  },
  {
   "cell_type": "code",
   "execution_count": null,
   "id": "1a22deb2",
   "metadata": {},
   "outputs": [],
   "source": [
    "\n",
    "import pandas as pd\n",
    "\n",
    "print(\"💼 Task 2: Employee Data Management\\n\")\n",
    "\n",
    "employees = [\n",
    "    {\"Name\": \"Sakshi\", \"Department\": \"AI\", \"Salary\": 65000},\n",
    "    {\"Name\": \"Arjun\", \"Department\": \"Data\", \"Salary\": 72000},\n",
    "    {\"Name\": \"Meera\", \"Department\": \"AI\", \"Salary\": 58000},\n",
    "    {\"Name\": \"Raj\", \"Department\": \"HR\", \"Salary\": 45000},\n",
    "]\n",
    "\n",
    "# Create DataFrame\n",
    "df = pd.DataFrame(employees)\n",
    "\n",
    "# Filter employees with salary > 60000\n",
    "high_salary = df[df['Salary'] > 60000]\n",
    "\n",
    "print(\"All Employees:\\n\", df, \"\\n\")\n",
    "print(\"Employees with Salary > 60000:\\n\", high_salary)\n",
    "    "
   ]
  },
  {
   "cell_type": "markdown",
   "id": "0439c759",
   "metadata": {},
   "source": [
    "## 🔢 Task 3: Pattern Generator"
   ]
  },
  {
   "cell_type": "code",
   "execution_count": null,
   "id": "1c4f7c12",
   "metadata": {},
   "outputs": [],
   "source": [
    "\n",
    "print(\"🔢 Task 3: Pattern Generator\\n\")\n",
    "\n",
    "# Numeric pyramid pattern\n",
    "print(\"Number Pyramid:\")\n",
    "for i in range(1, 6):\n",
    "    print(' ' * (5 - i) + ' '.join(str(j) for j in range(1, i + 1)))\n",
    "\n",
    "# Star diamond pattern\n",
    "print(\"\\nStar Diamond Pattern:\")\n",
    "for i in range(1, 6):\n",
    "    print(' ' * (5 - i) + '*' * (2 * i - 1))\n",
    "for i in range(4, 0, -1):\n",
    "    print(' ' * (5 - i) + '*' * (2 * i - 1))\n",
    "    "
   ]
  },
  {
   "cell_type": "markdown",
   "id": "9455a73c",
   "metadata": {},
   "source": [
    "## 🎬 Task 4: Movie Ratings Visualization"
   ]
  },
  {
   "cell_type": "code",
   "execution_count": null,
   "id": "d83fca99",
   "metadata": {},
   "outputs": [],
   "source": [
    "\n",
    "import numpy as np\n",
    "import matplotlib.pyplot as plt\n",
    "\n",
    "print(\"🎬 Task 4: Movie Ratings Visualization\\n\")\n",
    "\n",
    "movies = [\"Inception\", \"Interstellar\", \"Avatar\", \"Tenet\", \"Joker\"]\n",
    "ratings = np.random.randint(6, 10, size=len(movies))  # Random ratings between 6 and 9\n",
    "\n",
    "plt.figure(figsize=(6,4))\n",
    "plt.bar(movies, ratings, color='teal')\n",
    "plt.title(\"Movie Ratings\")\n",
    "plt.xlabel(\"Movies\")\n",
    "plt.ylabel(\"Ratings (out of 10)\")\n",
    "plt.ylim(0, 10)\n",
    "plt.show()\n",
    "\n",
    "for m, r in zip(movies, ratings):\n",
    "    print(f\"{m}: {r}/10\")\n",
    "    "
   ]
  },
  {
   "cell_type": "markdown",
   "id": "a3573eb8",
   "metadata": {},
   "source": [
    "## 🌡️ Task 5: Temperature Converter (OOP)"
   ]
  },
  {
   "cell_type": "code",
   "execution_count": null,
   "id": "508cc790",
   "metadata": {},
   "outputs": [],
   "source": [
    "\n",
    "print(\"🌡️ Task 5: Temperature Converter\\n\")\n",
    "\n",
    "class TemperatureConverter:\n",
    "    def __init__(self, temp):\n",
    "        self.temp = temp\n",
    "\n",
    "    def celsius_to_fahrenheit(self):\n",
    "        return (self.temp * 9/5) + 32\n",
    "\n",
    "    def fahrenheit_to_celsius(self):\n",
    "        return (self.temp - 32) * 5/9\n",
    "\n",
    "    def celsius_to_kelvin(self):\n",
    "        return self.temp + 273.15\n",
    "\n",
    "# Example usage\n",
    "temp_obj = TemperatureConverter(37)\n",
    "print(f\"37°C = {temp_obj.celsius_to_fahrenheit():.2f}°F\")\n",
    "print(f\"37°C = {temp_obj.celsius_to_kelvin():.2f}K\")\n",
    "\n",
    "temp_f = TemperatureConverter(100)\n",
    "print(f\"100°F = {temp_f.fahrenheit_to_celsius():.2f}°C\")\n",
    "    "
   ]
  }
 ],
 "metadata": {},
 "nbformat": 4,
 "nbformat_minor": 5
}
